{
 "cells": [
  {
   "cell_type": "code",
   "execution_count": 38,
   "metadata": {},
   "outputs": [
    {
     "name": "stdout",
     "output_type": "stream",
     "text": [
      "The autoreload extension is already loaded. To reload it, use:\n",
      "  %reload_ext autoreload\n"
     ]
    }
   ],
   "source": [
    "# %load ~/.firstcell.py\n",
    "%load_ext autoreload\n",
    "%autoreload 2\n",
    "\n",
    "import json\n",
    "import pandas as pd\n",
    "import numpy as np \n",
    "from PIL import Image\n",
    "import matplotlib.pyplot as plt \n",
    "import cv2\n",
    "import os \n",
    "import sys\n",
    "import csv\n",
    "from IPython.display import Video, HTML\n",
    "import random\n",
    "import urllib\n",
    "\n",
    "sys.path.insert(0, os.path.expanduser(\"~\"))\n",
    "from python_helpers import * \n"
   ]
  },
  {
   "cell_type": "code",
   "execution_count": 15,
   "metadata": {},
   "outputs": [],
   "source": [
    "from make_crops import load_lens, load_mems, OOPS_PATH, overlapping_mem_and_center_crop, get_vid_aspect_ratio"
   ]
  },
  {
   "cell_type": "code",
   "execution_count": 62,
   "metadata": {},
   "outputs": [],
   "source": [
    "def select_long_videos(n=16):\n",
    "    lens = load_lens()\n",
    "\n",
    "    vids = [elt for elt in lens if elt[0] >= 28 and elt[0] <= 32]\n",
    "    print(len(vids))\n",
    "\n",
    "    # select vids w/ highest mem score std. dev.\n",
    "    scores = load_mems()\n",
    "    vars = []\n",
    "\n",
    "    for elt in vids:\n",
    "        length, vidname = elt\n",
    "        mem_scores = scores[vidname][\"mems\"]\n",
    "        stddev = np.std(mem_scores)\n",
    "        vars.append([stddev, vidname])\n",
    "\n",
    "    vars.sort()\n",
    "\n",
    "    vids_to_select = []\n",
    "    exclude = [\"Monkey\"]\n",
    "\n",
    "    for vid in vars[::-1]:\n",
    "        _, vidname = vid\n",
    "\n",
    "        has_overlap = overlapping_mem_and_center_crop(vidname,\n",
    "                                                      scores[vidname][\"mems\"])\n",
    "\n",
    "        has_good_ar = get_vid_aspect_ratio(\n",
    "            os.path.join(OOPS_PATH, vidname + \".mp4\")) > 1\n",
    "        \n",
    "        excluded = any([word in vid for word in exclude])\n",
    "        if excluded: \n",
    "            print(\"excluded\", vid)\n",
    "\n",
    "        if (not has_overlap) and has_good_ar and not(excluded):\n",
    "            vids_to_select.append(vidname)\n",
    "        else:\n",
    "            print(\"{}: {}, {}\".format(vidname, has_overlap, has_good_ar))\n",
    "\n",
    "            \n",
    "    return vids_to_select\n"
   ]
  },
  {
   "cell_type": "code",
   "execution_count": 63,
   "metadata": {},
   "outputs": [
    {
     "name": "stdout",
     "output_type": "stream",
     "text": [
      "49\n",
      "Bee Keeper Business - Fails of the Week (November 2018) _ FailArmy24: False, False\n",
      "34 Funny Kid Nominees - FailArmy Hall Of Fame (May 2017)31: False, False\n",
      "Throwback Fails - Backflip Belly Flops Optional! (December 2017) _ FailArmy66: False, False\n",
      "FailFactory - Derpy Dogs (March 2019) _ FailArmy19: False, False\n",
      "Fails of the Month - Failing into Summer like... (May 2017)57: False, False\n",
      "Fails of the Week - Insult to Injury (January 2017) _ FailArmy55: False, False\n",
      "The Master Swordsmen - Fails You Missed #17 _ FailArmy33: True, False\n",
      "FailFactory - Derpy Dogs (March 2019) _ FailArmy91: True, False\n",
      "FailArmy After Dark - That's Going To Cost You  (Ep. 10)63: False, False\n",
      "FailArmy After Dark - That's Got to Sting (Ep. 6)29: False, False\n",
      "Swingset Stupidity - Fails of the Week (May 2019) _ FailArmy12: False, False\n",
      "Get Out Of The Way!! - FailArmy After Dark (Ep. 12)117: False, False\n",
      "The Wheels Are Coming Off! - Throwback Fails (December 2017) _ FailArmy51: False, False\n",
      "FailArmy After Dark - Say It, Don't Spray It (Ep. 7)57: False, False\n",
      "The Summer of Fails - Fails of the Week (July 2018) _ FailArmy36: False, False\n",
      "Snow Day Fails - It's Cold Out There! (January 2018) _ FailArmy21: False, False\n",
      "On The Job Fails - I Need A New Job (October 2017) _ FailArmy6: False, False\n",
      "Hilarious Holiday Fails (December 2017) _ FailArmy19: True, False\n",
      "Guess it's Time to Leave - Throwback Thursday (October 2017) _ FailArmy35: False, False\n",
      "Crack That Whip - Throwback Fails (July 2017)77: True, False\n",
      "Expensive Fails - That's Going To Cost You! (July 2017)34: False, False\n",
      "FailArmy After Dark - That's Going To Cost You  (Ep. 10)91: False, False\n",
      "Fails at Home - Home Is Where The Fail Is (May 2018) _ FailArmy15: False, False\n",
      "Fails of the Month - Failure In Full Force (January 2017) _ FailArmy8: False, False\n",
      "Anger Management - Fails of the Week (January 2019) _ FailArmy15: False, False\n",
      "Throwback Fails - Everybody Sing!! (February 2018) _ FailArmy68: False, False\n",
      "Throwback Fails - That's one greedy cat!111: False, False\n",
      "FailFactory - No Pain, No Gain (Workout Fails)168: True, True\n",
      "You've Got Bad Friends - Friendship Fails (September 2018) _ FailArmy34: True, True\n",
      "Fails You Missed - Not the Bees (April 2018) _ Failarmy68: True, False\n"
     ]
    },
    {
     "data": {
      "text/plain": [
       "19"
      ]
     },
     "execution_count": 63,
     "metadata": {},
     "output_type": "execute_result"
    }
   ],
   "source": [
    "options = select_long_videos()\n",
    "len(options)"
   ]
  },
  {
   "cell_type": "code",
   "execution_count": 64,
   "metadata": {},
   "outputs": [
    {
     "data": {
      "text/plain": [
       "'Sister Fails _ Funny Sisters Fail Compilation By FailArmy 201619'"
      ]
     },
     "execution_count": 64,
     "metadata": {},
     "output_type": "execute_result"
    }
   ],
   "source": [
    "options[0]"
   ]
  },
  {
   "cell_type": "code",
   "execution_count": 65,
   "metadata": {
    "scrolled": false
   },
   "outputs": [
    {
     "name": "stdout",
     "output_type": "stream",
     "text": [
      "False\n",
      "Sister Fails _ Funny Sisters Fail Compilation By FailArmy 201619\n",
      "path http://localhost:8000/Sister%20Fails%20_%20Funny%20Sisters%20Fail%20Compilation%20By%20FailArmy%20201619.mp4\n"
     ]
    },
    {
     "data": {
      "text/html": [
       "\n",
       "        <video width=\"480\" height=\"360\" controls>\n",
       "            <source src=\"http://localhost:8000/Sister%20Fails%20_%20Funny%20Sisters%20Fail%20Compilation%20By%20FailArmy%20201619.mp4\">\n",
       "        </video>\n",
       "    "
      ],
      "text/plain": [
       "<IPython.core.display.HTML object>"
      ]
     },
     "metadata": {},
     "output_type": "display_data"
    },
    {
     "name": "stdout",
     "output_type": "stream",
     "text": [
      "False\n",
      "Drop On In! - Fails of the Week (June 2018) _ FailArmy3\n",
      "path http://localhost:8000/Drop%20On%20In%21%20-%20Fails%20of%20the%20Week%20%28June%202018%29%20_%20FailArmy3.mp4\n"
     ]
    },
    {
     "data": {
      "text/html": [
       "\n",
       "        <video width=\"480\" height=\"360\" controls>\n",
       "            <source src=\"http://localhost:8000/Drop%20On%20In%21%20-%20Fails%20of%20the%20Week%20%28June%202018%29%20_%20FailArmy3.mp4\">\n",
       "        </video>\n",
       "    "
      ],
      "text/plain": [
       "<IPython.core.display.HTML object>"
      ]
     },
     "metadata": {},
     "output_type": "display_data"
    },
    {
     "name": "stdout",
     "output_type": "stream",
     "text": [
      "False\n",
      "Best Fails of the Week 3 February 2016 _ 'I'm OK, Wheres my Jetski!'FailArmy9\n",
      "path http://localhost:8000/Best%20Fails%20of%20the%20Week%203%20February%202016%20_%20%27I%27m%20OK%2C%20Wheres%20my%20Jetski%21%27FailArmy9.mp4\n"
     ]
    },
    {
     "data": {
      "text/html": [
       "\n",
       "        <video width=\"480\" height=\"360\" controls>\n",
       "            <source src=\"http://localhost:8000/Best%20Fails%20of%20the%20Week%203%20February%202016%20_%20%27I%27m%20OK%2C%20Wheres%20my%20Jetski%21%27FailArmy9.mp4\">\n",
       "        </video>\n",
       "    "
      ],
      "text/plain": [
       "<IPython.core.display.HTML object>"
      ]
     },
     "metadata": {},
     "output_type": "display_data"
    },
    {
     "name": "stdout",
     "output_type": "stream",
     "text": [
      "False\n",
      "The Ultimate Funny Monkey Compilation _ Monkey Fails by FailArmy25\n",
      "path http://localhost:8000/The%20Ultimate%20Funny%20Monkey%20Compilation%20_%20Monkey%20Fails%20by%20FailArmy25.mp4\n"
     ]
    },
    {
     "data": {
      "text/html": [
       "\n",
       "        <video width=\"480\" height=\"360\" controls>\n",
       "            <source src=\"http://localhost:8000/The%20Ultimate%20Funny%20Monkey%20Compilation%20_%20Monkey%20Fails%20by%20FailArmy25.mp4\">\n",
       "        </video>\n",
       "    "
      ],
      "text/plain": [
       "<IPython.core.display.HTML object>"
      ]
     },
     "metadata": {},
     "output_type": "display_data"
    },
    {
     "name": "stdout",
     "output_type": "stream",
     "text": [
      "False\n",
      "Don't Rock the Boat - Throwback Fails (July 2017)64\n",
      "path http://localhost:8000/Don%27t%20Rock%20the%20Boat%20-%20Throwback%20Fails%20%28July%202017%2964.mp4\n"
     ]
    },
    {
     "data": {
      "text/html": [
       "\n",
       "        <video width=\"480\" height=\"360\" controls>\n",
       "            <source src=\"http://localhost:8000/Don%27t%20Rock%20the%20Boat%20-%20Throwback%20Fails%20%28July%202017%2964.mp4\">\n",
       "        </video>\n",
       "    "
      ],
      "text/plain": [
       "<IPython.core.display.HTML object>"
      ]
     },
     "metadata": {},
     "output_type": "display_data"
    },
    {
     "name": "stdout",
     "output_type": "stream",
     "text": [
      "False\n",
      "That's A Sideways Wheelie! - Throwback Thursday (August 2017) _ FailArmy23\n",
      "path http://localhost:8000/That%27s%20A%20Sideways%20Wheelie%21%20-%20Throwback%20Thursday%20%28August%202017%29%20_%20FailArmy23.mp4\n"
     ]
    },
    {
     "data": {
      "text/html": [
       "\n",
       "        <video width=\"480\" height=\"360\" controls>\n",
       "            <source src=\"http://localhost:8000/That%27s%20A%20Sideways%20Wheelie%21%20-%20Throwback%20Thursday%20%28August%202017%29%20_%20FailArmy23.mp4\">\n",
       "        </video>\n",
       "    "
      ],
      "text/plain": [
       "<IPython.core.display.HTML object>"
      ]
     },
     "metadata": {},
     "output_type": "display_data"
    },
    {
     "name": "stdout",
     "output_type": "stream",
     "text": [
      "False\n",
      "Ouchie - Dang That Hurt! (May 2018) _ FailArmy29\n",
      "path http://localhost:8000/Ouchie%20-%20Dang%20That%20Hurt%21%20%28May%202018%29%20_%20FailArmy29.mp4\n"
     ]
    },
    {
     "data": {
      "text/html": [
       "\n",
       "        <video width=\"480\" height=\"360\" controls>\n",
       "            <source src=\"http://localhost:8000/Ouchie%20-%20Dang%20That%20Hurt%21%20%28May%202018%29%20_%20FailArmy29.mp4\">\n",
       "        </video>\n",
       "    "
      ],
      "text/plain": [
       "<IPython.core.display.HTML object>"
      ]
     },
     "metadata": {},
     "output_type": "display_data"
    },
    {
     "name": "stdout",
     "output_type": "stream",
     "text": [
      "False\n",
      "We're Back! Fails of the Week (May 2019) _ FailArmy11\n",
      "path http://localhost:8000/We%27re%20Back%21%20Fails%20of%20the%20Week%20%28May%202019%29%20_%20FailArmy11.mp4\n"
     ]
    },
    {
     "data": {
      "text/html": [
       "\n",
       "        <video width=\"480\" height=\"360\" controls>\n",
       "            <source src=\"http://localhost:8000/We%27re%20Back%21%20Fails%20of%20the%20Week%20%28May%202019%29%20_%20FailArmy11.mp4\">\n",
       "        </video>\n",
       "    "
      ],
      "text/plain": [
       "<IPython.core.display.HTML object>"
      ]
     },
     "metadata": {},
     "output_type": "display_data"
    },
    {
     "name": "stdout",
     "output_type": "stream",
     "text": [
      "False\n",
      "Throwback Fails - Everybody Sing!! (February 2018) _ FailArmy72\n",
      "path http://localhost:8000/Throwback%20Fails%20-%20Everybody%20Sing%21%21%20%28February%202018%29%20_%20FailArmy72.mp4\n"
     ]
    },
    {
     "data": {
      "text/html": [
       "\n",
       "        <video width=\"480\" height=\"360\" controls>\n",
       "            <source src=\"http://localhost:8000/Throwback%20Fails%20-%20Everybody%20Sing%21%21%20%28February%202018%29%20_%20FailArmy72.mp4\">\n",
       "        </video>\n",
       "    "
      ],
      "text/plain": [
       "<IPython.core.display.HTML object>"
      ]
     },
     "metadata": {},
     "output_type": "display_data"
    },
    {
     "name": "stdout",
     "output_type": "stream",
     "text": [
      "False\n",
      "FailFactory - Derpy Dogs (March 2019) _ FailArmy63\n",
      "path http://localhost:8000/FailFactory%20-%20Derpy%20Dogs%20%28March%202019%29%20_%20FailArmy63.mp4\n"
     ]
    },
    {
     "data": {
      "text/html": [
       "\n",
       "        <video width=\"480\" height=\"360\" controls>\n",
       "            <source src=\"http://localhost:8000/FailFactory%20-%20Derpy%20Dogs%20%28March%202019%29%20_%20FailArmy63.mp4\">\n",
       "        </video>\n",
       "    "
      ],
      "text/plain": [
       "<IPython.core.display.HTML object>"
      ]
     },
     "metadata": {},
     "output_type": "display_data"
    },
    {
     "name": "stdout",
     "output_type": "stream",
     "text": [
      "False\n",
      "Classic bails and Throwback Fails (June 2017) _ FailArmy53\n",
      "path http://localhost:8000/Classic%20bails%20and%20Throwback%20Fails%20%28June%202017%29%20_%20FailArmy53.mp4\n"
     ]
    },
    {
     "data": {
      "text/html": [
       "\n",
       "        <video width=\"480\" height=\"360\" controls>\n",
       "            <source src=\"http://localhost:8000/Classic%20bails%20and%20Throwback%20Fails%20%28June%202017%29%20_%20FailArmy53.mp4\">\n",
       "        </video>\n",
       "    "
      ],
      "text/plain": [
       "<IPython.core.display.HTML object>"
      ]
     },
     "metadata": {},
     "output_type": "display_data"
    },
    {
     "name": "stdout",
     "output_type": "stream",
     "text": [
      "False\n",
      "Workout Fails - New Year, Same Me (January 2017) _ FailArmy31\n",
      "path http://localhost:8000/Workout%20Fails%20-%20New%20Year%2C%20Same%20Me%20%28January%202017%29%20_%20FailArmy31.mp4\n"
     ]
    },
    {
     "data": {
      "text/html": [
       "\n",
       "        <video width=\"480\" height=\"360\" controls>\n",
       "            <source src=\"http://localhost:8000/Workout%20Fails%20-%20New%20Year%2C%20Same%20Me%20%28January%202017%29%20_%20FailArmy31.mp4\">\n",
       "        </video>\n",
       "    "
      ],
      "text/plain": [
       "<IPython.core.display.HTML object>"
      ]
     },
     "metadata": {},
     "output_type": "display_data"
    },
    {
     "name": "stdout",
     "output_type": "stream",
     "text": [
      "False\n",
      "FailArmy After Dark - Say It, Don't Spray It (Ep. 7)108\n",
      "path http://localhost:8000/FailArmy%20After%20Dark%20-%20Say%20It%2C%20Don%27t%20Spray%20It%20%28Ep.%207%29108.mp4\n"
     ]
    },
    {
     "data": {
      "text/html": [
       "\n",
       "        <video width=\"480\" height=\"360\" controls>\n",
       "            <source src=\"http://localhost:8000/FailArmy%20After%20Dark%20-%20Say%20It%2C%20Don%27t%20Spray%20It%20%28Ep.%207%29108.mp4\">\n",
       "        </video>\n",
       "    "
      ],
      "text/plain": [
       "<IPython.core.display.HTML object>"
      ]
     },
     "metadata": {},
     "output_type": "display_data"
    },
    {
     "name": "stdout",
     "output_type": "stream",
     "text": [
      "False\n",
      "Caught Slippin' - Fails of the Week (February 2019) _ FailArmy11\n",
      "path http://localhost:8000/Caught%20Slippin%27%20-%20Fails%20of%20the%20Week%20%28February%202019%29%20_%20FailArmy11.mp4\n"
     ]
    },
    {
     "data": {
      "text/html": [
       "\n",
       "        <video width=\"480\" height=\"360\" controls>\n",
       "            <source src=\"http://localhost:8000/Caught%20Slippin%27%20-%20Fails%20of%20the%20Week%20%28February%202019%29%20_%20FailArmy11.mp4\">\n",
       "        </video>\n",
       "    "
      ],
      "text/plain": [
       "<IPython.core.display.HTML object>"
      ]
     },
     "metadata": {},
     "output_type": "display_data"
    },
    {
     "name": "stdout",
     "output_type": "stream",
     "text": [
      "False\n",
      "Caught Slippin' - Fails of the Week (February 2019) _ FailArmy22\n",
      "path http://localhost:8000/Caught%20Slippin%27%20-%20Fails%20of%20the%20Week%20%28February%202019%29%20_%20FailArmy22.mp4\n"
     ]
    },
    {
     "data": {
      "text/html": [
       "\n",
       "        <video width=\"480\" height=\"360\" controls>\n",
       "            <source src=\"http://localhost:8000/Caught%20Slippin%27%20-%20Fails%20of%20the%20Week%20%28February%202019%29%20_%20FailArmy22.mp4\">\n",
       "        </video>\n",
       "    "
      ],
      "text/plain": [
       "<IPython.core.display.HTML object>"
      ]
     },
     "metadata": {},
     "output_type": "display_data"
    },
    {
     "name": "stdout",
     "output_type": "stream",
     "text": [
      "False\n",
      "Sister Fails _ Funny Sisters Fail Compilation By FailArmy 201655\n",
      "path http://localhost:8000/Sister%20Fails%20_%20Funny%20Sisters%20Fail%20Compilation%20By%20FailArmy%20201655.mp4\n"
     ]
    },
    {
     "data": {
      "text/html": [
       "\n",
       "        <video width=\"480\" height=\"360\" controls>\n",
       "            <source src=\"http://localhost:8000/Sister%20Fails%20_%20Funny%20Sisters%20Fail%20Compilation%20By%20FailArmy%20201655.mp4\">\n",
       "        </video>\n",
       "    "
      ],
      "text/plain": [
       "<IPython.core.display.HTML object>"
      ]
     },
     "metadata": {},
     "output_type": "display_data"
    },
    {
     "name": "stdout",
     "output_type": "stream",
     "text": [
      "False\n",
      "Best Fails of the Week - Watch It Drones! (May 2018) _ FailArmy21\n",
      "path http://localhost:8000/Best%20Fails%20of%20the%20Week%20-%20Watch%20It%20Drones%21%20%28May%202018%29%20_%20FailArmy21.mp4\n"
     ]
    },
    {
     "data": {
      "text/html": [
       "\n",
       "        <video width=\"480\" height=\"360\" controls>\n",
       "            <source src=\"http://localhost:8000/Best%20Fails%20of%20the%20Week%20-%20Watch%20It%20Drones%21%20%28May%202018%29%20_%20FailArmy21.mp4\">\n",
       "        </video>\n",
       "    "
      ],
      "text/plain": [
       "<IPython.core.display.HTML object>"
      ]
     },
     "metadata": {},
     "output_type": "display_data"
    },
    {
     "name": "stdout",
     "output_type": "stream",
     "text": [
      "False\n",
      "Throwback Fails - When Enough Is Enough! (February 2018) _ FailArmy43\n",
      "path http://localhost:8000/Throwback%20Fails%20-%20When%20Enough%20Is%20Enough%21%20%28February%202018%29%20_%20FailArmy43.mp4\n"
     ]
    },
    {
     "data": {
      "text/html": [
       "\n",
       "        <video width=\"480\" height=\"360\" controls>\n",
       "            <source src=\"http://localhost:8000/Throwback%20Fails%20-%20When%20Enough%20Is%20Enough%21%20%28February%202018%29%20_%20FailArmy43.mp4\">\n",
       "        </video>\n",
       "    "
      ],
      "text/plain": [
       "<IPython.core.display.HTML object>"
      ]
     },
     "metadata": {},
     "output_type": "display_data"
    },
    {
     "name": "stdout",
     "output_type": "stream",
     "text": [
      "False\n",
      "Rapper Slips off the Stage!! - Fails of the Week (July 2017)58\n",
      "path http://localhost:8000/Rapper%20Slips%20off%20the%20Stage%21%21%20-%20Fails%20of%20the%20Week%20%28July%202017%2958.mp4\n"
     ]
    },
    {
     "data": {
      "text/html": [
       "\n",
       "        <video width=\"480\" height=\"360\" controls>\n",
       "            <source src=\"http://localhost:8000/Rapper%20Slips%20off%20the%20Stage%21%21%20-%20Fails%20of%20the%20Week%20%28July%202017%2958.mp4\">\n",
       "        </video>\n",
       "    "
      ],
      "text/plain": [
       "<IPython.core.display.HTML object>"
      ]
     },
     "metadata": {},
     "output_type": "display_data"
    }
   ],
   "source": [
    "for vid in options: \n",
    "    bp = \"http://localhost:8000\"\n",
    "    path = bp + \"/\" + urllib.parse.quote(\"{}.mp4\".format(vid))\n",
    "    print(os.path.exists(path))\n",
    "    print(vid)\n",
    "    display(show_video(path))"
   ]
  },
  {
   "cell_type": "code",
   "execution_count": 70,
   "metadata": {},
   "outputs": [
    {
     "data": {
      "text/plain": [
       "16"
      ]
     },
     "execution_count": 70,
     "metadata": {},
     "output_type": "execute_result"
    }
   ],
   "source": [
    "options = ['Sister Fails _ Funny Sisters Fail Compilation By FailArmy 201619',\n",
    " 'Drop On In! - Fails of the Week (June 2018) _ FailArmy3',\n",
    " \"Best Fails of the Week 3 February 2016 _ 'I'm OK, Wheres my Jetski!'FailArmy9\",\n",
    " \"Don't Rock the Boat - Throwback Fails (July 2017)64\",\n",
    " \"That's A Sideways Wheelie! - Throwback Thursday (August 2017) _ FailArmy23\",\n",
    " 'Ouchie - Dang That Hurt! (May 2018) _ FailArmy29',\n",
    " \"We're Back! Fails of the Week (May 2019) _ FailArmy11\",\n",
    " 'Throwback Fails - Everybody Sing!! (February 2018) _ FailArmy72',\n",
    " 'FailFactory - Derpy Dogs (March 2019) _ FailArmy63',\n",
    " 'Workout Fails - New Year, Same Me (January 2017) _ FailArmy31',\n",
    " \"FailArmy After Dark - Say It, Don't Spray It (Ep. 7)108\",\n",
    " \"Caught Slippin' - Fails of the Week (February 2019) _ FailArmy22\",\n",
    " 'Sister Fails _ Funny Sisters Fail Compilation By FailArmy 201655',\n",
    " 'Best Fails of the Week - Watch It Drones! (May 2018) _ FailArmy21',\n",
    " 'Throwback Fails - When Enough Is Enough! (February 2018) _ FailArmy43',\n",
    " 'Rapper Slips off the Stage!! - Fails of the Week (July 2017)58']\n",
    "\n",
    "len(options)"
   ]
  },
  {
   "cell_type": "code",
   "execution_count": 71,
   "metadata": {},
   "outputs": [],
   "source": [
    "with open(\"target_vids.json\", \"w\") as outfile: \n",
    "    json.dump(options, outfile)"
   ]
  },
  {
   "cell_type": "code",
   "execution_count": null,
   "metadata": {},
   "outputs": [],
   "source": []
  }
 ],
 "metadata": {
  "kernelspec": {
   "display_name": "Python [conda env:pytorch] *",
   "language": "python",
   "name": "conda-env-pytorch-py"
  },
  "language_info": {
   "codemirror_mode": {
    "name": "ipython",
    "version": 3
   },
   "file_extension": ".py",
   "mimetype": "text/x-python",
   "name": "python",
   "nbconvert_exporter": "python",
   "pygments_lexer": "ipython3",
   "version": "3.6.10"
  }
 },
 "nbformat": 4,
 "nbformat_minor": 4
}
